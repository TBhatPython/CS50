{
 "cells": [
  {
   "cell_type": "code",
   "execution_count": 2,
   "metadata": {},
   "outputs": [
    {
     "ename": "IndentationError",
     "evalue": "expected an indented block after function definition on line 4 (2507427296.py, line 6)",
     "output_type": "error",
     "traceback": [
      "\u001b[1;36m  Cell \u001b[1;32mIn[2], line 6\u001b[1;36m\u001b[0m\n\u001b[1;33m    matches = re.search(r\"^([0-9]+)(?::([0-9]+))? (AM|PM) to ([0-9]+)(?::([0-9]+))? (AM|PM)$\", hours)\u001b[0m\n\u001b[1;37m    ^\u001b[0m\n\u001b[1;31mIndentationError\u001b[0m\u001b[1;31m:\u001b[0m expected an indented block after function definition on line 4\n"
     ]
    }
   ],
   "source": [
    "def main():\n",
    "    print(convert(input(\"Hours: \")))\n",
    "    \n",
    "def convert(hours):\n",
    "\n",
    "    matches = re.search(r\"^([0-9]+)(?::([0-9]+))? (AM|PM) to ([0-9]+)(?::([0-9]+))? (AM|PM)$\", hours)\n",
    "\n",
    "    if not matches:\n",
    "         return \"Invalid time\"\n",
    "    \n",
    "    try: \n",
    "        start_hour, start_minute, start_meridian, end_hour, end_minute, end_meridian = matches.groups()\n",
    "        start_hour, end_hour = int(start_hour), int(end_hour)\n",
    "        start_minute = int(start_minute or \"0\")\n",
    "        end_minute = int(end_minute or \"0\")\n"
   ]
  }
 ],
 "metadata": {
  "kernelspec": {
   "display_name": "Python 3",
   "language": "python",
   "name": "python3"
  },
  "language_info": {
   "codemirror_mode": {
    "name": "ipython",
    "version": 3
   },
   "file_extension": ".py",
   "mimetype": "text/x-python",
   "name": "python",
   "nbconvert_exporter": "python",
   "pygments_lexer": "ipython3",
   "version": "3.12.0"
  }
 },
 "nbformat": 4,
 "nbformat_minor": 2
}
