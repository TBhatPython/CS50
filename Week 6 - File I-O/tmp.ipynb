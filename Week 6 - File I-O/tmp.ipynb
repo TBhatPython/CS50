{
 "cells": [
  {
   "cell_type": "code",
   "execution_count": 16,
   "metadata": {},
   "outputs": [],
   "source": [
    "import sys\n",
    "import os\n",
    "from PIL import Image, ImageOps"
   ]
  },
  {
   "cell_type": "code",
   "execution_count": 17,
   "metadata": {},
   "outputs": [
    {
     "name": "stdout",
     "output_type": "stream",
     "text": [
      "Me\n"
     ]
    },
    {
     "ename": "IndexError",
     "evalue": "list index out of range",
     "output_type": "error",
     "traceback": [
      "\u001b[1;31m---------------------------------------------------------------------------\u001b[0m",
      "\u001b[1;31mIndexError\u001b[0m                                Traceback (most recent call last)",
      "Cell \u001b[1;32mIn[17], line 6\u001b[0m\n\u001b[0;32m      3\u001b[0m     \u001b[38;5;28mprint\u001b[39m(\u001b[38;5;124m\"\u001b[39m\u001b[38;5;124mMe\u001b[39m\u001b[38;5;124m\"\u001b[39m)\n\u001b[0;32m      5\u001b[0m root1, ext1 \u001b[38;5;241m=\u001b[39m os\u001b[38;5;241m.\u001b[39mpath\u001b[38;5;241m.\u001b[39msplitext(sys\u001b[38;5;241m.\u001b[39margv[\u001b[38;5;241m1\u001b[39m])\n\u001b[1;32m----> 6\u001b[0m root2, ext2 \u001b[38;5;241m=\u001b[39m os\u001b[38;5;241m.\u001b[39mpath\u001b[38;5;241m.\u001b[39msplitext(\u001b[43msys\u001b[49m\u001b[38;5;241;43m.\u001b[39;49m\u001b[43margv\u001b[49m\u001b[43m[\u001b[49m\u001b[38;5;241;43m2\u001b[39;49m\u001b[43m]\u001b[49m)\n\u001b[0;32m      7\u001b[0m accepted_ext \u001b[38;5;241m=\u001b[39m [\u001b[38;5;124m\"\u001b[39m\u001b[38;5;124m.jpeg\u001b[39m\u001b[38;5;124m\"\u001b[39m, \u001b[38;5;124m\"\u001b[39m\u001b[38;5;124m.jpg\u001b[39m\u001b[38;5;124m\"\u001b[39m, \u001b[38;5;124m\"\u001b[39m\u001b[38;5;124m.png\u001b[39m\u001b[38;5;124m\"\u001b[39m]\n\u001b[0;32m      8\u001b[0m \u001b[38;5;28;01mif\u001b[39;00m ext1 \u001b[38;5;241m!=\u001b[39m ext2:\n",
      "\u001b[1;31mIndexError\u001b[0m: list index out of range"
     ]
    }
   ],
   "source": [
    "\n",
    "try:\n",
    "    if len(sys.argv) != 3:\n",
    "        print(\"Me\")\n",
    "\n",
    "    root1, ext1 = os.path.splitext(sys.argv[1])\n",
    "    root2, ext2 = os.path.splitext(sys.argv[2])\n",
    "    accepted_ext = [\".jpeg\", \".jpg\", \".png\"]\n",
    "    if ext1 != ext2:\n",
    "        sys.exit(\"Input and output file formats don't match\")\n",
    "    elif ext1 not in accepted_ext or ext2 not in accepted_ext:\n",
    "        sys.exit(\"Not an accepted file format\")\n",
    "\n",
    "    overlay()\n",
    "except FileNotFoundError:\n",
    "    sys.exit(\"File not found\")\n"
   ]
  },
  {
   "cell_type": "code",
   "execution_count": null,
   "metadata": {},
   "outputs": [],
   "source": [
    "def overlay():\n",
    "    with Image.open(sys.argv[1]) as file:\n",
    "        input_size = (300,400)\n",
    "        new_image = ImageOps.fit(sys.argv[1], input_size)\n",
    "\n",
    "    with Image.open(sys.argv[2]) as file:\n",
    "        position = (\n",
    "            (file.width - new_image.width) // 2,\n",
    "            (file.height - new_image.height) // 2\n",
    "        )\n",
    "        file.paste(new_image, position)\n",
    "        file.save(sys.argv[2])"
   ]
  }
 ],
 "metadata": {
  "kernelspec": {
   "display_name": "Python 3",
   "language": "python",
   "name": "python3"
  },
  "language_info": {
   "codemirror_mode": {
    "name": "ipython",
    "version": 3
   },
   "file_extension": ".py",
   "mimetype": "text/x-python",
   "name": "python",
   "nbconvert_exporter": "python",
   "pygments_lexer": "ipython3",
   "version": "3.12.0"
  }
 },
 "nbformat": 4,
 "nbformat_minor": 2
}
